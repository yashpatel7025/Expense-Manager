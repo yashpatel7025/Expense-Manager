{
 "cells": [
  {
   "cell_type": "code",
   "execution_count": 1,
   "metadata": {},
   "outputs": [],
   "source": [
    "suits = ('Hearts', 'Diamonds', 'Spades', 'Clubs')\n",
    "ranks = ('Two', 'Three', 'Four', 'Five', 'Six', 'Seven', 'Eight', 'Nine', 'Ten', 'Jack', 'Queen', 'King', 'Ace')\n",
    "values = {'Two':2, 'Three':3, 'Four':4, 'Five':5, 'Six':6, 'Seven':7, 'Eight':8, 'Nine':9, 'Ten':10, 'Jack':10,\n",
    "         'Queen':10, 'King':10, 'Ace':11}"
   ]
  },
  {
   "cell_type": "code",
   "execution_count": 2,
   "metadata": {},
   "outputs": [],
   "source": [
    "\n",
    "class Player:\n",
    "    money=1000\n",
    "    score=0\n",
    "    plist=[]\n",
    "    bet=0\n",
    "    bust=False\n",
    "    count=0\n",
    "    \n",
    "    def minusMoney(self,bet):\n",
    "        Player.money=Player.money-bet\n",
    "        \n",
    "    def setCard(self,rank,suit):\n",
    "        self.rank=rank\n",
    "        self.suit=suit\n",
    "        if values[self.rank]==11 and (Player.score+values[self.rank]>21):\n",
    "             Player.score=Player.score+1\n",
    "        else:\n",
    "             Player.score=Player.score+values[self.rank]\n",
    "        \n",
    "    def __str__(self):\n",
    "        return (f'{self.rank} of {self.suit}')\n",
    "    \n",
    "    def takeBet(self):\n",
    "        while True:\n",
    "            Player.bet=int(input('Enter Your Bet '))\n",
    "            if Player.bet>Player.money:\n",
    "                print(f'You have only {Player.money} RS')\n",
    "                continue\n",
    "            else:\n",
    "                break\n",
    "             \n",
    "    \n",
    "    def deal(self):\n",
    "                Player.count+=1\n",
    "                a,b=deck_obj.giveCard()\n",
    "                Player.plist.append(Player())\n",
    "                Player.plist[-1].setCard(a,b)\n",
    "                print(\"Players Hand\")\n",
    "                for i,v in enumerate(Player.plist):\n",
    "                     print(f'  {Player.plist[i].rank} of {Player.plist[i].suit}')\n",
    "                if Player.count>1:\n",
    "                     print(f'SCORE IS {Player.score}')\n",
    "                \n",
    "                #whenever player or dealer get card score has to be checked\n",
    "                \n",
    "                if Player.score>21:\n",
    "                    printf(\"You Bust,Dealer won bet \")\n",
    "                    Dealer.money=Dealer.money+Player.bet\n",
    "                    Player.money=Player.money-Player.bet\n",
    "                    Player.bust=True"
   ]
  },
  {
   "cell_type": "code",
   "execution_count": 3,
   "metadata": {},
   "outputs": [],
   "source": [
    "class Dealer:\n",
    "    money=50000\n",
    "    score=0\n",
    "    dlist=[]\n",
    "    count=0\n",
    "    bust=False\n",
    "    def minusMoney(self,bet):\n",
    "        Dealer.money=Dealer.money-bet\n",
    "        \n",
    "    def setCard(self,rank,suit):\n",
    "        self.rank=rank\n",
    "        self.suit=suit\n",
    "        if values[self.rank]==11 and (Dealer.score+values[self.rank]>21):\n",
    "             Dealer.score=Dealer.score+1\n",
    "        else:\n",
    "             Dealer.score=Dealer.score+values[self.rank]\n",
    "        \n",
    "    def __str__(self):\n",
    "        return (f'{self.rank} of {self.suit}')\n",
    "    \n",
    "    def deal(self):\n",
    "                Dealer.count+=1\n",
    "                a,b=deck_obj.giveCard()\n",
    "                Dealer.dlist.append(Dealer())\n",
    "                Dealer.dlist[-1].setCard(a,b)\n",
    "                print(\"Dealers Hand\")\n",
    "                for i,v in enumerate(Dealer.dlist):\n",
    "                        if Dealer.count<3:\n",
    "                            print(\"  <hidden card>\")\n",
    "                        else:\n",
    "                            print(f'  {Dealer.dlist[i].rank} of {Dealer.dlist[i].suit}')\n",
    "                if Dealer.count>2:\n",
    "                     print(f'SCORE IS {Dealer.score}')\n",
    "                            \n",
    "                if Dealer.score>21:\n",
    "                    printf(\"Dealer Bust,You won bet,Congratulation!!\")\n",
    "                    Dealer.money=Dealer.money-Player.bet\n",
    "                    Player.money=Player.money+Player.bet\n",
    "                    Dealer.bust=True\n",
    "                    \n",
    "            "
   ]
  },
  {
   "cell_type": "code",
   "execution_count": 4,
   "metadata": {},
   "outputs": [],
   "source": [
    "class Card:\n",
    "    def __init__(self,rank,suit):\n",
    "        self.rank=rank\n",
    "        self.suit=suit\n",
    " \n",
    "        \n",
    "    def shuffle(self,deck):\n",
    "        import random\n",
    "        random.shuffle()\n",
    "        \n",
    "   "
   ]
  },
  {
   "cell_type": "code",
   "execution_count": 5,
   "metadata": {},
   "outputs": [],
   "source": [
    "\n",
    "class Deck:\n",
    "    \n",
    "        def __init__(self):\n",
    "            '''now here we want array consisting 52 cards ,at one position there should be 2 place 1 for suits and other for rank ,total\n",
    "               there should be 52 places but it is not possile bye dictioaries since there occurs multiple same keys and different values\n",
    "               there for why not to use class,class would have that 2 place or items and 52 list values will be object pointing to that class'''\n",
    "            self.deck=[]\n",
    "            for i in ranks:\n",
    "                 for j in suits:\n",
    "                    self.deck.append(Card(i,j))\n",
    "\n",
    "        def shuffle(self):\n",
    "            import random\n",
    "            random.shuffle(self.deck)\n",
    "            \n",
    "        def __str__(self):\n",
    "            for i in self.deck:\n",
    "                print(f'{i.rank} of {i.suit}')\n",
    "                \n",
    "        def giveCard(self):\n",
    "            temp=self.deck.pop()\n",
    "            a=temp.rank\n",
    "            b= temp.suit\n",
    "            return a,b\n",
    "        \n",
    "        def printDeck(self):\n",
    "            for i in self.deck:\n",
    "                print(f'{i.rank} of {i.suit}')\n",
    "\n"
   ]
  },
  {
   "cell_type": "code",
   "execution_count": 6,
   "metadata": {},
   "outputs": [
    {
     "name": "stdout",
     "output_type": "stream",
     "text": [
      "Enter Your Bet 500\n",
      "Players Hand\n",
      "  Four of Hearts\n",
      "Players Hand\n",
      "  Four of Hearts\n",
      "  Three of Hearts\n",
      "SCORE IS 7\n",
      "Dealers Hand\n",
      "  <hidden card>\n",
      "Dealers Hand\n",
      "  <hidden card>\n",
      "  <hidden card>\n",
      "do you want to HIT or STAYhit\n"
     ]
    },
    {
     "ename": "AttributeError",
     "evalue": "'NoneType' object has no attribute 'lower'",
     "output_type": "error",
     "traceback": [
      "\u001b[1;31m---------------------------------------------------------------------------\u001b[0m",
      "\u001b[1;31mAttributeError\u001b[0m                            Traceback (most recent call last)",
      "\u001b[1;32m<ipython-input-6-3ebbf76c4b92>\u001b[0m in \u001b[0;36m<module>\u001b[1;34m\u001b[0m\n\u001b[0;32m     45\u001b[0m             \u001b[0mdealer_obj\u001b[0m\u001b[1;33m.\u001b[0m\u001b[0mdeal\u001b[0m\u001b[1;33m(\u001b[0m\u001b[1;33m)\u001b[0m\u001b[1;33m\u001b[0m\u001b[1;33m\u001b[0m\u001b[0m\n\u001b[0;32m     46\u001b[0m \u001b[1;33m\u001b[0m\u001b[0m\n\u001b[1;32m---> 47\u001b[1;33m             \u001b[1;32mwhile\u001b[0m \u001b[0mhit_stay\u001b[0m\u001b[1;33m(\u001b[0m\u001b[1;33m)\u001b[0m\u001b[1;33m.\u001b[0m\u001b[0mlower\u001b[0m\u001b[1;33m(\u001b[0m\u001b[1;33m)\u001b[0m\u001b[1;33m!=\u001b[0m\u001b[1;34m'stay'\u001b[0m\u001b[1;33m:\u001b[0m\u001b[1;33m\u001b[0m\u001b[1;33m\u001b[0m\u001b[0m\n\u001b[0m\u001b[0;32m     48\u001b[0m                 \u001b[0mplayer_obj\u001b[0m\u001b[1;33m.\u001b[0m\u001b[0mdeal\u001b[0m\u001b[1;33m(\u001b[0m\u001b[1;33m)\u001b[0m\u001b[1;33m\u001b[0m\u001b[1;33m\u001b[0m\u001b[0m\n\u001b[0;32m     49\u001b[0m                 \u001b[1;32mif\u001b[0m \u001b[0mPlayer\u001b[0m\u001b[1;33m.\u001b[0m\u001b[0mbust\u001b[0m\u001b[1;33m==\u001b[0m\u001b[1;32mTrue\u001b[0m\u001b[1;33m:\u001b[0m\u001b[1;33m\u001b[0m\u001b[1;33m\u001b[0m\u001b[0m\n",
      "\u001b[1;31mAttributeError\u001b[0m: 'NoneType' object has no attribute 'lower'"
     ]
    }
   ],
   "source": [
    "def hit_stay():\n",
    "         while True:\n",
    "                opt=input(\"do you want to HIT or STAY\")\n",
    "                if opt.lower()=='hit' or opt.lower()=='stay':\n",
    "                    break\n",
    "                else:\n",
    "                    print(\"PLEASE Enter HIT or STAY\")\n",
    "                    continue\n",
    "                return opt\n",
    "            \n",
    "def playerstayed():\n",
    "    while Dealer.score<17:\n",
    "        dealer_obj.deal()\n",
    "    if Dealer.bust==True:\n",
    "        return 1\n",
    "    if 16<Dealer.score<22:\n",
    "        if player.score>Dealer.score:\n",
    "            printf(\"You won bet,Congratulation!! \")\n",
    "            Dealer.money=Dealer.money-Player.bet\n",
    "            Player.money=Player.money+Player.bet\n",
    "        elif player.score<Dealer.score:\n",
    "            printf(\"Dealer won bet,You lose!!\")\n",
    "            Dealer.money=Dealer.money+Player.bet\n",
    "            Player.money=Player.money-Player.bet\n",
    "        else:\n",
    "            print(\"draw bet i.e push\")\n",
    "        return 2\n",
    "    \n",
    "         \n",
    "    \n",
    "playing=True\n",
    "while playing==True:\n",
    "            deck_obj=Deck()\n",
    "            deck_obj.shuffle()\n",
    "            player_obj=Player()\n",
    "            player_obj.takeBet()\n",
    "\n",
    "\n",
    "            player_obj.deal()\n",
    "            player_obj.deal()\n",
    "            \n",
    "\n",
    "            dealer_obj=Dealer()\n",
    "            dealer_obj.deal()\n",
    "            dealer_obj.deal()\n",
    "            \n",
    "            while hit_stay().lower()!='stay':\n",
    "                player_obj.deal()\n",
    "                if Player.bust==True:\n",
    "                    break\n",
    "            if Player.bust==True:\n",
    "                    break\n",
    "            if opt.lower()=='stay':\n",
    "                temp=playerstayed()\n",
    "                \n",
    "            while True:\n",
    "                opt=input(\"do you want to play again...?YES or NO\")\n",
    "                if opt.lower()=='yes' or opt.lower()=='no':\n",
    "                    break\n",
    "                else:\n",
    "                    print(\"PLEASE Enter HIT or STAY\")\n",
    "                    continue\n",
    "            if opt.lower()=='yes':\n",
    "                playing=True\n",
    "                continue\n",
    "            elif opt.lower()=='no':\n",
    "                print(\"Thanks for playing...\")\n",
    "                    \n",
    "                \n",
    "                    \n",
    "           \n",
    "            \n",
    "                "
   ]
  },
  {
   "cell_type": "code",
   "execution_count": null,
   "metadata": {},
   "outputs": [],
   "source": []
  },
  {
   "cell_type": "code",
   "execution_count": null,
   "metadata": {},
   "outputs": [],
   "source": []
  },
  {
   "cell_type": "code",
   "execution_count": null,
   "metadata": {},
   "outputs": [],
   "source": []
  },
  {
   "cell_type": "code",
   "execution_count": null,
   "metadata": {},
   "outputs": [],
   "source": []
  },
  {
   "cell_type": "code",
   "execution_count": null,
   "metadata": {},
   "outputs": [],
   "source": []
  },
  {
   "cell_type": "code",
   "execution_count": null,
   "metadata": {},
   "outputs": [],
   "source": []
  },
  {
   "cell_type": "code",
   "execution_count": 119,
   "metadata": {},
   "outputs": [
    {
     "name": "stdout",
     "output_type": "stream",
     "text": [
      "Players Hand\n",
      "  Queen of Diamonds\n",
      "  Ten of Diamonds\n",
      "  Jack of Spades\n",
      "Players Hand\n",
      "  Queen of Diamonds\n",
      "  Ten of Diamonds\n",
      "  Jack of Spades\n",
      "  Eight of Diamonds\n",
      "Dealers Hand\n",
      "  <hidden card>\n",
      "  Four of Clubs\n",
      "  Eight of Spades\n",
      "Dealers Hand\n",
      "  <hidden card>\n",
      "  Four of Clubs\n",
      "  Eight of Spades\n",
      "  Six of Diamonds\n"
     ]
    }
   ],
   "source": [
    "player_obj.deal()\n",
    "player_obj.deal()\n",
    "\n",
    "dealer_obj=Dealer()\n",
    "dealer_obj.deal()\n",
    "dealer_obj.deal()"
   ]
  },
  {
   "cell_type": "code",
   "execution_count": 124,
   "metadata": {},
   "outputs": [
    {
     "name": "stdout",
     "output_type": "stream",
     "text": [
      "do you want to HIT or STAYhvjg\n",
      "PLEASE Enter HIT or STAY\n",
      "do you want to HIT or STAYHiT\n"
     ]
    }
   ],
   "source": [
    "while True:\n",
    "    opt=input(\"do you want to HIT or STAY\")\n",
    "    if opt.lower()=='hit' or opt.lower()=='stay':\n",
    "        break\n",
    "    else:\n",
    "        print(\"PLEASE Enter HIT or STAY\")\n",
    "        continue"
   ]
  },
  {
   "cell_type": "code",
   "execution_count": null,
   "metadata": {},
   "outputs": [],
   "source": [
    "if opt.lower()=='hit':\n",
    "    player_obj.deal()"
   ]
  },
  {
   "cell_type": "code",
   "execution_count": null,
   "metadata": {},
   "outputs": [],
   "source": []
  },
  {
   "cell_type": "code",
   "execution_count": null,
   "metadata": {},
   "outputs": [],
   "source": []
  },
  {
   "cell_type": "code",
   "execution_count": null,
   "metadata": {},
   "outputs": [],
   "source": []
  },
  {
   "cell_type": "code",
   "execution_count": null,
   "metadata": {},
   "outputs": [],
   "source": []
  },
  {
   "cell_type": "code",
   "execution_count": null,
   "metadata": {},
   "outputs": [],
   "source": []
  },
  {
   "cell_type": "code",
   "execution_count": null,
   "metadata": {},
   "outputs": [],
   "source": []
  },
  {
   "cell_type": "code",
   "execution_count": null,
   "metadata": {},
   "outputs": [],
   "source": []
  },
  {
   "cell_type": "code",
   "execution_count": null,
   "metadata": {},
   "outputs": [],
   "source": []
  },
  {
   "cell_type": "code",
   "execution_count": null,
   "metadata": {},
   "outputs": [],
   "source": []
  },
  {
   "cell_type": "code",
   "execution_count": 110,
   "metadata": {},
   "outputs": [
    {
     "data": {
      "text/plain": [
       "28"
      ]
     },
     "execution_count": 110,
     "metadata": {},
     "output_type": "execute_result"
    }
   ],
   "source": [
    "Player.score"
   ]
  },
  {
   "cell_type": "code",
   "execution_count": 75,
   "metadata": {},
   "outputs": [
    {
     "data": {
      "text/plain": [
       "7"
      ]
     },
     "execution_count": 75,
     "metadata": {},
     "output_type": "execute_result"
    }
   ],
   "source": [
    "Player.score"
   ]
  },
  {
   "cell_type": "code",
   "execution_count": 78,
   "metadata": {},
   "outputs": [
    {
     "name": "stdout",
     "output_type": "stream",
     "text": [
      "Dealers Hand\n",
      "<hidden card>\n"
     ]
    }
   ],
   "source": [
    "ob=Dealer()\n",
    "ob.deal()"
   ]
  },
  {
   "cell_type": "code",
   "execution_count": 79,
   "metadata": {},
   "outputs": [
    {
     "data": {
      "text/plain": [
       "10"
      ]
     },
     "execution_count": 79,
     "metadata": {},
     "output_type": "execute_result"
    }
   ],
   "source": [
    "Dealer.score"
   ]
  },
  {
   "cell_type": "code",
   "execution_count": null,
   "metadata": {},
   "outputs": [],
   "source": [
    "\n",
    "\n"
   ]
  },
  {
   "cell_type": "code",
   "execution_count": null,
   "metadata": {},
   "outputs": [],
   "source": []
  },
  {
   "cell_type": "code",
   "execution_count": null,
   "metadata": {},
   "outputs": [],
   "source": []
  },
  {
   "cell_type": "code",
   "execution_count": null,
   "metadata": {},
   "outputs": [],
   "source": []
  },
  {
   "cell_type": "code",
   "execution_count": null,
   "metadata": {},
   "outputs": [],
   "source": []
  },
  {
   "cell_type": "code",
   "execution_count": null,
   "metadata": {},
   "outputs": [],
   "source": []
  },
  {
   "cell_type": "code",
   "execution_count": null,
   "metadata": {},
   "outputs": [],
   "source": []
  },
  {
   "cell_type": "code",
   "execution_count": null,
   "metadata": {},
   "outputs": [],
   "source": []
  },
  {
   "cell_type": "code",
   "execution_count": null,
   "metadata": {},
   "outputs": [],
   "source": []
  },
  {
   "cell_type": "code",
   "execution_count": null,
   "metadata": {},
   "outputs": [],
   "source": []
  },
  {
   "cell_type": "code",
   "execution_count": null,
   "metadata": {},
   "outputs": [],
   "source": []
  },
  {
   "cell_type": "code",
   "execution_count": null,
   "metadata": {},
   "outputs": [],
   "source": []
  },
  {
   "cell_type": "code",
   "execution_count": null,
   "metadata": {},
   "outputs": [],
   "source": []
  },
  {
   "cell_type": "code",
   "execution_count": null,
   "metadata": {},
   "outputs": [],
   "source": []
  },
  {
   "cell_type": "code",
   "execution_count": null,
   "metadata": {},
   "outputs": [],
   "source": []
  },
  {
   "cell_type": "code",
   "execution_count": null,
   "metadata": {},
   "outputs": [],
   "source": []
  },
  {
   "cell_type": "code",
   "execution_count": 157,
   "metadata": {},
   "outputs": [
    {
     "name": "stdout",
     "output_type": "stream",
     "text": [
      "Eight of Spades\n",
      "Four of Diamonds\n",
      "King of Spades\n",
      "Ace of Hearts\n",
      "Four of Hearts\n",
      "Jack of Clubs\n",
      "Queen of Clubs\n",
      "Seven of Hearts\n",
      "Ten of Hearts\n",
      "Ace of Diamonds\n",
      "Ten of Clubs\n",
      "Two of Spades\n",
      "Nine of Hearts\n",
      "Eight of Hearts\n",
      "Three of Clubs\n",
      "Nine of Clubs\n",
      "Jack of Hearts\n",
      "King of Diamonds\n",
      "Four of Spades\n",
      "Five of Clubs\n",
      "Two of Hearts\n",
      "Two of Clubs\n",
      "Six of Spades\n",
      "Six of Diamonds\n",
      "King of Hearts\n",
      "Ten of Diamonds\n",
      "Three of Hearts\n",
      "Nine of Diamonds\n",
      "Five of Diamonds\n",
      "Nine of Spades\n",
      "Ten of Spades\n",
      "King of Clubs\n",
      "Queen of Spades\n",
      "Seven of Clubs\n",
      "Eight of Clubs\n",
      "Two of Diamonds\n",
      "Ace of Spades\n",
      "Jack of Diamonds\n",
      "Ace of Clubs\n",
      "Three of Spades\n",
      "Jack of Spades\n",
      "Six of Clubs\n",
      "Five of Spades\n",
      "Eight of Diamonds\n",
      "Six of Hearts\n",
      "Seven of Diamonds\n",
      "Seven of Spades\n",
      "Queen of Diamonds\n",
      "Five of Hearts\n",
      "Queen of Hearts\n",
      "Four of Clubs\n",
      "Three of Diamonds\n"
     ]
    }
   ],
   "source": [
    "#test for Deck class \n",
    "obj=Deck()\n",
    "obj.shuffle()\n",
    "obj.printDeck()"
   ]
  },
  {
   "cell_type": "code",
   "execution_count": 150,
   "metadata": {},
   "outputs": [],
   "source": [
    "#test for player class\n",
    "a,b=obj.giveCard()\n",
    "player_obj2=Player()\n",
    "player_obj2.setCard(a,b)\n"
   ]
  },
  {
   "cell_type": "code",
   "execution_count": 151,
   "metadata": {},
   "outputs": [
    {
     "name": "stdout",
     "output_type": "stream",
     "text": [
      "Queen of Spades\n"
     ]
    }
   ],
   "source": [
    "print(player_obj2)"
   ]
  },
  {
   "cell_type": "code",
   "execution_count": 152,
   "metadata": {},
   "outputs": [
    {
     "data": {
      "text/plain": [
       "10"
      ]
     },
     "execution_count": 152,
     "metadata": {},
     "output_type": "execute_result"
    }
   ],
   "source": [
    "player_obj2.score"
   ]
  },
  {
   "cell_type": "code",
   "execution_count": 133,
   "metadata": {},
   "outputs": [],
   "source": [
    "#test for dealer class\n",
    "a,b=obj.giveCard()\n",
    "dealer_obj2=Dealer()\n",
    "dealer_obj2.setCard(a,b)\n"
   ]
  },
  {
   "cell_type": "code",
   "execution_count": 134,
   "metadata": {},
   "outputs": [
    {
     "name": "stdout",
     "output_type": "stream",
     "text": [
      "Two of Clubs\n"
     ]
    }
   ],
   "source": [
    "print(dealer_obj2)"
   ]
  },
  {
   "cell_type": "code",
   "execution_count": 135,
   "metadata": {},
   "outputs": [
    {
     "data": {
      "text/plain": [
       "2"
      ]
     },
     "execution_count": 135,
     "metadata": {},
     "output_type": "execute_result"
    }
   ],
   "source": [
    "dealer_obj2.score"
   ]
  },
  {
   "cell_type": "code",
   "execution_count": null,
   "metadata": {},
   "outputs": [],
   "source": []
  }
 ],
 "metadata": {
  "kernelspec": {
   "display_name": "Python 3",
   "language": "python",
   "name": "python3"
  },
  "language_info": {
   "codemirror_mode": {
    "name": "ipython",
    "version": 3
   },
   "file_extension": ".py",
   "mimetype": "text/x-python",
   "name": "python",
   "nbconvert_exporter": "python",
   "pygments_lexer": "ipython3",
   "version": "3.7.1"
  }
 },
 "nbformat": 4,
 "nbformat_minor": 2
}
